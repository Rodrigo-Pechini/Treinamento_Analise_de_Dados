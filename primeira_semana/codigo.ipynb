{
 "cells": [
  {
   "cell_type": "code",
   "execution_count": null,
   "id": "dec73232",
   "metadata": {},
   "outputs": [],
   "source": [
    "import pandas as pd\n",
    "import matplotlib.pyplot as ptl\n",
    "import os"
   ]
  },
  {
   "cell_type": "code",
   "execution_count": null,
   "id": "2281d5a5",
   "metadata": {},
   "outputs": [],
   "source": [
    "pip install Jinja2\n"
   ]
  },
  {
   "cell_type": "code",
   "execution_count": null,
   "id": "2bc32e97",
   "metadata": {},
   "outputs": [],
   "source": [
    "data_frame = pd.read_csv('base_vendas_produtos.csv')\n"
   ]
  },
  {
   "cell_type": "code",
   "execution_count": null,
   "id": "0a27c9e2",
   "metadata": {},
   "outputs": [],
   "source": [
    "print(data_frame.head())"
   ]
  },
  {
   "cell_type": "code",
   "execution_count": null,
   "id": "da03cc4b",
   "metadata": {},
   "outputs": [],
   "source": [
    "'''\n",
    "Qual é o preço unitário médio dos produtos vendidos?\n",
    "'''\n",
    "\n",
    "media = data_frame['Preço Unitário'].mean()\n",
    "print(f'{media:,.2f}')"
   ]
  },
  {
   "cell_type": "code",
   "execution_count": null,
   "id": "92f6c716",
   "metadata": {},
   "outputs": [],
   "source": [
    "'''\n",
    "Qual foi o total de unidades vendidas (soma da coluna Quantidade Vendida)?\n",
    "'''\n",
    "\n",
    "soma = data_frame['Quantidade Vendida'].sum()\n",
    "print(soma)"
   ]
  },
  {
   "cell_type": "code",
   "execution_count": null,
   "id": "b5939f07",
   "metadata": {},
   "outputs": [],
   "source": [
    "'''\n",
    "Qual foi o faturamento total por categoria (somar Total da Venda agrupando por Categoria)?\n",
    "'''\n",
    "\n",
    "venda_por_categoria = data_frame.groupby('Categoria')['Total da Venda'].sum()\n",
    "print(venda_por_categoria)"
   ]
  },
  {
   "cell_type": "code",
   "execution_count": null,
   "id": "e77966cf",
   "metadata": {},
   "outputs": [
    {
     "name": "stdout",
     "output_type": "stream",
     "text": [
      "-=-=-=-=-=-=-=-=-=-=-=-=-=-=-=-=-=-=-=-=\n",
      "Região com o maior faturamento é Quantidade Vendida    Centro\n",
      "Total da Venda        Centro\n",
      "dtype: object\n",
      "-=-=-=-=-=-=-=-=-=-=-=-=-=-=-=-=-=-=-=-=\n",
      "Região com o menor faturamento é Quantidade Vendida      Sul\n",
      "Total da Venda        Oeste\n",
      "dtype: object\n"
     ]
    },
    {
     "data": {
      "text/plain": [
       "\"print('-=' * 20)\\nprint(f'Vendedor com o maior faturamento é {vendedor_maior}')\\nprint('-=' * 20)\\nprint(f'Vendedor com o menor faturamento é {vendedor_menor}')\""
      ]
     },
     "execution_count": 102,
     "metadata": {},
     "output_type": "execute_result"
    }
   ],
   "source": [
    "'''\n",
    "Existe diferença significativa entre o faturamento médio por região? Qual região vende mais e qual vende menos?\n",
    "'''\n",
    "\n",
    "media_por_regiao = data_frame.groupby('Região').agg({\n",
    "    'Quantidade Vendida': 'sum',\n",
    "    'Total da Venda': 'mean'\n",
    "})\n",
    "\n",
    "regiao_maior = media_por_regiao.idxmax()\n",
    "regiao_menor = media_por_regiao.idxmin()\n",
    "\n",
    "media_formatada = media_por_regiao.style.format({\n",
    "    'Quantidade Vendida': '{:,}',\n",
    "    'Total da Venda': 'R$ {:,.2f}'\n",
    "})\n",
    "\n",
    "media_formatada\n",
    "\n"
   ]
  },
  {
   "cell_type": "code",
   "execution_count": null,
   "id": "4f1468b9",
   "metadata": {},
   "outputs": [],
   "source": [
    "\n",
    "vendas_por_vendedor = data_frame.groupby('Vendedor').agg({\n",
    "    'Quantidade Vendida': 'sum',\n",
    "    'Total da Venda': 'sum'\n",
    "})\n",
    "\n",
    "vendas_estilo = vendas_por_vendedor.style.format({\n",
    "    'Total da Venda': 'R$ {:,.2f}',\n",
    "    'Quantidade Vendida': '{:,}'\n",
    "})\n",
    "\n",
    "vendas_estilo\n",
    "\n",
    "\n"
   ]
  },
  {
   "cell_type": "code",
   "execution_count": null,
   "id": "3cb3bf87",
   "metadata": {},
   "outputs": [],
   "source": [
    "'''\n",
    "Crie um gráfico de barras mostrando a quantidade total vendida por produto (groupby Nome do Produto e somar Quantidade Vendida).\n",
    "Sugestão: usar pandas.plot.bar() ou matplotlib.\n",
    "'''\n",
    "\n",
    "data_frame.groupby('Nome do Produto')['Quantidade Vendida'].sum().plot.bar()\n",
    "ptl.show()"
   ]
  }
 ],
 "metadata": {
  "kernelspec": {
   "display_name": "Python 3",
   "language": "python",
   "name": "python3"
  },
  "language_info": {
   "codemirror_mode": {
    "name": "ipython",
    "version": 3
   },
   "file_extension": ".py",
   "mimetype": "text/x-python",
   "name": "python",
   "nbconvert_exporter": "python",
   "pygments_lexer": "ipython3",
   "version": "3.13.7"
  }
 },
 "nbformat": 4,
 "nbformat_minor": 5
}
